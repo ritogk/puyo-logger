{
 "cells": [
  {
   "cell_type": "code",
   "execution_count": 1,
   "id": "991d5730",
   "metadata": {},
   "outputs": [
    {
     "ename": "TypeError",
     "evalue": "split_masu() takes 1 positional argument but 2 were given",
     "output_type": "error",
     "traceback": [
      "\u001b[0;31m---------------------------------------------------------------------------\u001b[0m",
      "\u001b[0;31mTypeError\u001b[0m                                 Traceback (most recent call last)",
      "Cell \u001b[0;32mIn [1], line 6\u001b[0m\n\u001b[1;32m      4\u001b[0m \u001b[39mfrom\u001b[39;00m \u001b[39mIPython\u001b[39;00m\u001b[39m.\u001b[39;00m\u001b[39mdisplay\u001b[39;00m \u001b[39mimport\u001b[39;00m Image, display\n\u001b[1;32m      5\u001b[0m \u001b[39mfrom\u001b[39;00m \u001b[39mmatplotlib\u001b[39;00m \u001b[39mimport\u001b[39;00m pyplot \u001b[39mas\u001b[39;00m plt\n\u001b[0;32m----> 6\u001b[0m \u001b[39mfrom\u001b[39;00m \u001b[39mPuyoInfo\u001b[39;00m \u001b[39mimport\u001b[39;00m puyo_red, puyo_blue, puyo_yellow, puyo_parpul, puyo_ozyama, puyo_green\n\u001b[1;32m      7\u001b[0m field_recogniton \u001b[39m=\u001b[39m FieldRecognition(video_path\u001b[39m=\u001b[39m\u001b[39m'\u001b[39m\u001b[39m./resources/puyo_video.mp4\u001b[39m\u001b[39m'\u001b[39m, frame_index\u001b[39m=\u001b[39m\u001b[39m16000\u001b[39m)\n\u001b[1;32m      9\u001b[0m puyo_green_hsv \u001b[39m=\u001b[39m cv2\u001b[39m.\u001b[39mcvtColor(puyo_green, cv2\u001b[39m.\u001b[39mCOLOR_BGR2HSV)\n",
      "File \u001b[0;32m~/puyo-logger/test/PuyoInfo.py:3\u001b[0m\n\u001b[1;32m      1\u001b[0m \u001b[39mfrom\u001b[39;00m \u001b[39mFieldRecognition\u001b[39;00m \u001b[39mimport\u001b[39;00m FieldRecognition\n\u001b[0;32m----> 3\u001b[0m field_recogniton \u001b[39m=\u001b[39m FieldRecognition(\n\u001b[1;32m      4\u001b[0m     video_path\u001b[39m=\u001b[39;49m\u001b[39m'\u001b[39;49m\u001b[39m./resources/puyo_video.mp4\u001b[39;49m\u001b[39m'\u001b[39;49m, frame_index\u001b[39m=\u001b[39;49m\u001b[39m15500\u001b[39;49m)\n\u001b[1;32m      6\u001b[0m field_recogniton2 \u001b[39m=\u001b[39m FieldRecognition(\n\u001b[1;32m      7\u001b[0m     video_path\u001b[39m=\u001b[39m\u001b[39m'\u001b[39m\u001b[39m./resources/puyo_video.mp4\u001b[39m\u001b[39m'\u001b[39m, frame_index\u001b[39m=\u001b[39m\u001b[39m9900\u001b[39m)\n\u001b[1;32m      9\u001b[0m puyo_red \u001b[39m=\u001b[39m field_recogniton\u001b[39m.\u001b[39mfield_img_list[\u001b[39m0\u001b[39m][\u001b[39m5\u001b[39m]\n",
      "File \u001b[0;32m~/puyo-logger/test/FieldRecognition.py:17\u001b[0m, in \u001b[0;36mFieldRecognition.__init__\u001b[0;34m(self, video_path, frame_index)\u001b[0m\n\u001b[1;32m     14\u001b[0m img \u001b[39m=\u001b[39m \u001b[39mself\u001b[39m\u001b[39m.\u001b[39mgenerator_img(video_path, frame_index)\n\u001b[1;32m     15\u001b[0m \u001b[39mself\u001b[39m\u001b[39m.\u001b[39mfield_img \u001b[39m=\u001b[39m img\n\u001b[0;32m---> 17\u001b[0m \u001b[39mself\u001b[39;49m\u001b[39m.\u001b[39;49msplit_masu(img)\n\u001b[1;32m     18\u001b[0m \u001b[39mself\u001b[39m\u001b[39m.\u001b[39mvideo_path \u001b[39m=\u001b[39m video_path\n",
      "\u001b[0;31mTypeError\u001b[0m: split_masu() takes 1 positional argument but 2 were given"
     ]
    }
   ],
   "source": [
    "from FieldRecognition import FieldRecognition\n",
    "import cv2\n",
    "import numpy as np\n",
    "from IPython.display import Image, display\n",
    "from matplotlib import pyplot as plt\n",
    "from PuyoInfo import puyo_red, puyo_blue, puyo_yellow, puyo_parpul, puyo_ozyama, puyo_green\n",
    "field_recogniton = FieldRecognition(video_path='./resources/puyo_video.mp4', frame_index=16000)\n",
    "\n",
    "puyo_green_hsv = cv2.cvtColor(puyo_green, cv2.COLOR_BGR2HSV)\n",
    "puyo_red_hsv = cv2.cvtColor(puyo_red, cv2.COLOR_BGR2HSV)\n",
    "puyo_yellow_hsv = cv2.cvtColor(puyo_yellow, cv2.COLOR_BGR2HSV)\n",
    "puyo_parerpul_hsv = cv2.cvtColor(puyo_parpul, cv2.COLOR_BGR2HSV)\n",
    "puyo_blue_hsv = cv2.cvtColor(puyo_blue, cv2.COLOR_BGR2HSV)\n",
    "puyo_ozyama_hsv = cv2.cvtColor(puyo_ozyama, cv2.COLOR_BGR2HSV)\n",
    "\n",
    "h,s,v = cv2.split(puyo_green_hsv)\n",
    "hist_green = cv2.calcHist([h], [0], None, [256], [0, 256])\n",
    "h,s,v = cv2.split(puyo_red_hsv)\n",
    "hist_red = cv2.calcHist([h], [0], None, [256], [0, 256])\n",
    "h,s,v = cv2.split(puyo_yellow_hsv)\n",
    "hist_ywllow = cv2.calcHist([h], [0], None, [256], [0, 256])\n",
    "h,s,v = cv2.split(puyo_parerpul_hsv)\n",
    "hist_parerpul = cv2.calcHist([h], [0], None, [256], [0, 256])\n",
    "h,s,v = cv2.split(puyo_blue_hsv)\n",
    "hist_blue = cv2.calcHist([h], [0], None, [256], [0, 256])\n",
    "h,s,v = cv2.split(puyo_ozyama_hsv)\n",
    "hist_ozyama = cv2.calcHist([h], [0], None, [256], [0, 256])\n",
    "\n",
    "field_hsv = cv2.cvtColor(field_recogniton.field_img, cv2.COLOR_BGR2HSV)\n",
    "for row in reversed(field_recogniton.field_img_list):\n",
    "    for i in range(6):\n",
    "        puyo = row[i]\n",
    "        puyo_hsv = cv2.cvtColor(puyo, cv2.COLOR_BGR2HSV)\n",
    "        h,s,v = cv2.split(puyo_hsv)\n",
    "        hist_h = cv2.calcHist([h], [0], None, [256], [0, 256])\n",
    "        hist_s = cv2.calcHist([s], [0], None, [256], [0, 256])\n",
    "        # print(hist_h)\n",
    "        \n",
    "        s_avg = np.mean(v)\n",
    "        \n",
    "        # method = cv2.HISTCMP_INTERSECT\n",
    "        method = cv2.HISTCMP_CORREL\n",
    "        rate_green = {'color': 'G', 'rate':cv2.compareHist(hist_h, hist_green, method)}\n",
    "        rate_red = {'color': 'R', 'rate':cv2.compareHist(hist_h, hist_red, method)}\n",
    "        rate_yellow = {'color': 'Y', 'rate':cv2.compareHist(hist_h, hist_ywllow, method)}\n",
    "        rate_parepul = {'color': 'P', 'rate':cv2.compareHist(hist_h, hist_parerpul, method)}\n",
    "        rate_blue = {'color': 'B', 'rate':cv2.compareHist(hist_h, hist_blue, method)}\n",
    "        rate_ozyama = {'color': '■', 'rate':cv2.compareHist(hist_h, hist_ozyama, method)}\n",
    "\n",
    "        rate_list = [rate_green, rate_red, rate_yellow, rate_parepul, rate_blue, rate_ozyama]\n",
    "        color = max(rate_list, key=lambda x: x['rate'])\n",
    "        # 彩度が130以下ならぷよ未配置\n",
    "        if s_avg <= 130:\n",
    "            print(' ', end=' ')\n",
    "        else:\n",
    "            print(color['color'], end=' ')\n",
    "    print('')\n",
    "\n",
    "fig = plt.figure()\n",
    "plt.imshow(field_recogniton.field_img)\n"
   ]
  }
 ],
 "metadata": {
  "kernelspec": {
   "display_name": "Python 3.8.10 64-bit",
   "language": "python",
   "name": "python3"
  },
  "language_info": {
   "codemirror_mode": {
    "name": "ipython",
    "version": 3
   },
   "file_extension": ".py",
   "mimetype": "text/x-python",
   "name": "python",
   "nbconvert_exporter": "python",
   "pygments_lexer": "ipython3",
   "version": "3.8.10"
  },
  "vscode": {
   "interpreter": {
    "hash": "916dbcbb3f70747c44a77c7bcd40155683ae19c65e1c03b4aa3499c5328201f1"
   }
  }
 },
 "nbformat": 4,
 "nbformat_minor": 5
}
